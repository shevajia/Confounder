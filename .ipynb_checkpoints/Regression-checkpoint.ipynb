{
 "cells": [
  {
   "cell_type": "code",
   "execution_count": 1,
   "metadata": {},
   "outputs": [],
   "source": [
    "import numpy as np\n",
    "import matplotlib.pyplot as plt\n",
    "import statsmodels.api as sm\n",
    "import pandas as pd"
   ]
  },
  {
   "cell_type": "markdown",
   "metadata": {},
   "source": [
    "In the OLS community, it is often believed that bivariate correlations are able to tell the existence of confounders. For instance, if Y $\\sim$ X, X $\\sim$ Z, and Y $\\sim$ Z, then controlling for Z would undermine the linear relationship between Y and X. Is it really so?  Using simulations, this notebook tries to debunk this myth and demonstrates the effect of control in OLS regressions."
   ]
  },
  {
   "cell_type": "markdown",
   "metadata": {},
   "source": [
    "# Simulations"
   ]
  },
  {
   "cell_type": "markdown",
   "metadata": {},
   "source": [
    "First, let's draw a sample from a multivariate normal distribution $\\begin{bmatrix}\n",
    "X \\\\\n",
    "Y \\\\\n",
    "Z \\\\\n",
    "\\end{bmatrix} \\sim \\mathcal{N}(\\mathbf{\\mu}, \\mathbf{\\Sigma})$ with\n",
    "\n",
    "$\\mathbf{\\mu} = \\begin{bmatrix}\n",
    "0 \\\\\n",
    "0 \\\\\n",
    "0 \\\\\n",
    "\\end{bmatrix}$ and $\\mathbf{\\Sigma} = \\begin{bmatrix}\n",
    "1 & i & j \\\\\n",
    "i & 1 & k \\\\\n",
    "j & k & 1 \\\\\n",
    "\\end{bmatrix} = \\begin{bmatrix}\n",
    "1 & 0.9 & 0.9 \\\\\n",
    "0.9 & 1 & 0.9 \\\\\n",
    "0.9 & 0.9 & 1 \\\\\n",
    "\\end{bmatrix}\n",
    "$"
   ]
  },
  {
   "cell_type": "code",
   "execution_count": 3,
   "metadata": {},
   "outputs": [],
   "source": [
    "mean = np.array([0, 0, 0])\n",
    "cov = np.array([[1, 0.9, 0.9], [0.9, 1, 0.9], [0.9, 0.9, 1]])\n",
    "sample = np.random.multivariate_normal(mean, cov, 10000)"
   ]
  },
  {
   "cell_type": "markdown",
   "metadata": {},
   "source": [
    "Note that the covariance matrix has to be [positive semidefinite](https://en.wikipedia.org/wiki/Multivariate_normal_distribution#Non-degenerate_case).\n",
    "We can verify whether a matrix is positive semidefinite by checking whether [all of its eigenvalues are non-negative](https://en.wikipedia.org/wiki/Positive-definite_matrix#Characterizations)."
   ]
  },
  {
   "cell_type": "code",
   "execution_count": 4,
   "metadata": {},
   "outputs": [
    {
     "name": "stdout",
     "output_type": "stream",
     "text": [
      "[0.1 2.8 0.1]\n"
     ]
    }
   ],
   "source": [
    "eigenvalues = np.linalg.eig(cov)[0]\n",
    "print(eigenvalues)"
   ]
  },
  {
   "cell_type": "markdown",
   "metadata": {},
   "source": [
    "Let's get our sample x, y, and z."
   ]
  },
  {
   "cell_type": "code",
   "execution_count": 5,
   "metadata": {},
   "outputs": [],
   "source": [
    "x = sample[:,0]\n",
    "y = sample[:,1]\n",
    "z = sample[:,2]"
   ]
  },
  {
   "cell_type": "markdown",
   "metadata": {},
   "source": [
    "Plot y against z."
   ]
  },
  {
   "cell_type": "code",
   "execution_count": 6,
   "metadata": {},
   "outputs": [
    {
     "data": {
      "image/png": "[encoded data removed]",
      "text/plain": [
       "<Figure size 640x480 with 1 Axes>"
      ]
     },
     "metadata": {},
     "output_type": "display_data"
    }
   ],
   "source": [
    "plt.scatter(y,z)\n",
    "plt.show()"
   ]
  },
  {
   "cell_type": "markdown",
   "metadata": {},
   "source": [
    "Regress y on x. The slope we get should be on average equal to $i = 0.9$. (See (29) in the Appendix section.)"
   ]
  },
  {
   "cell_type": "code",
   "execution_count": 7,
   "metadata": {},
   "outputs": [
    {
     "data": {
      "text/html": [
       "<table class=\"simpletable\">\n",
       "<caption>OLS Regression Results</caption>\n",
       "<tr>\n",
       "  <th>Dep. Variable:</th>            <td>y</td>        <th>  R-squared:         </th> <td>   0.804</td> \n",
       "</tr>\n",
       "<tr>\n",
       "  <th>Model:</th>                   <td>OLS</td>       <th>  Adj. R-squared:    </th> <td>   0.804</td> \n",
       "</tr>\n",
       "<tr>\n",
       "  <th>Method:</th>             <td>Least Squares</td>  <th>  F-statistic:       </th> <td>4.093e+04</td>\n",
       "</tr>\n",
       "<tr>\n",
       "  <th>Date:</th>             <td>Mon, 15 Jan 2024</td> <th>  Prob (F-statistic):</th>  <td>  0.00</td>  \n",
       "</tr>\n",
       "<tr>\n",
       "  <th>Time:</th>                 <td>20:41:33</td>     <th>  Log-Likelihood:    </th> <td> -5942.0</td> \n",
       "</tr>\n",
       "<tr>\n",
       "  <th>No. Observations:</th>      <td> 10000</td>      <th>  AIC:               </th> <td>1.189e+04</td>\n",
       "</tr>\n",
       "<tr>\n",
       "  <th>Df Residuals:</th>          <td>  9998</td>      <th>  BIC:               </th> <td>1.190e+04</td>\n",
       "</tr>\n",
       "<tr>\n",
       "  <th>Df Model:</th>              <td>     1</td>      <th>                     </th>     <td> </td>    \n",
       "</tr>\n",
       "<tr>\n",
       "  <th>Covariance Type:</th>      <td>nonrobust</td>    <th>                     </th>     <td> </td>    \n",
       "</tr>\n",
       "</table>\n",
       "<table class=\"simpletable\">\n",
       "<tr>\n",
       "    <td></td>       <th>coef</th>     <th>std err</th>      <th>t</th>      <th>P>|t|</th>  <th>[0.025</th>    <th>0.975]</th>  \n",
       "</tr>\n",
       "<tr>\n",
       "  <th>const</th> <td>   -0.0002</td> <td>    0.004</td> <td>   -0.047</td> <td> 0.963</td> <td>   -0.009</td> <td>    0.008</td>\n",
       "</tr>\n",
       "<tr>\n",
       "  <th>x1</th>    <td>    0.8895</td> <td>    0.004</td> <td>  202.318</td> <td> 0.000</td> <td>    0.881</td> <td>    0.898</td>\n",
       "</tr>\n",
       "</table>\n",
       "<table class=\"simpletable\">\n",
       "<tr>\n",
       "  <th>Omnibus:</th>       <td> 1.070</td> <th>  Durbin-Watson:     </th> <td>   2.015</td>\n",
       "</tr>\n",
       "<tr>\n",
       "  <th>Prob(Omnibus):</th> <td> 0.586</td> <th>  Jarque-Bera (JB):  </th> <td>   1.089</td>\n",
       "</tr>\n",
       "<tr>\n",
       "  <th>Skew:</th>          <td> 0.006</td> <th>  Prob(JB):          </th> <td>   0.580</td>\n",
       "</tr>\n",
       "<tr>\n",
       "  <th>Kurtosis:</th>      <td> 2.950</td> <th>  Cond. No.          </th> <td>    1.00</td>\n",
       "</tr>\n",
       "</table><br/><br/>Notes:<br/>[1] Standard Errors assume that the covariance matrix of the errors is correctly specified."
      ],
      "text/latex": [
       "\\begin{center}\n",
       "\\begin{tabular}{lclc}\n",
       "\\toprule\n",
       "\\textbf{Dep. Variable:}    &        y         & \\textbf{  R-squared:         } &     0.804   \\\\\n",
       "\\textbf{Model:}            &       OLS        & \\textbf{  Adj. R-squared:    } &     0.804   \\\\\n",
       "\\textbf{Method:}           &  Least Squares   & \\textbf{  F-statistic:       } & 4.093e+04   \\\\\n",
       "\\textbf{Date:}             & Mon, 15 Jan 2024 & \\textbf{  Prob (F-statistic):} &     0.00    \\\\\n",
       "\\textbf{Time:}             &     20:41:33     & \\textbf{  Log-Likelihood:    } &   -5942.0   \\\\\n",
       "\\textbf{No. Observations:} &       10000      & \\textbf{  AIC:               } & 1.189e+04   \\\\\n",
       "\\textbf{Df Residuals:}     &        9998      & \\textbf{  BIC:               } & 1.190e+04   \\\\\n",
       "\\textbf{Df Model:}         &           1      & \\textbf{                     } &             \\\\\n",
       "\\textbf{Covariance Type:}  &    nonrobust     & \\textbf{                     } &             \\\\\n",
       "\\bottomrule\n",
       "\\end{tabular}\n",
       "\\begin{tabular}{lcccccc}\n",
       "               & \\textbf{coef} & \\textbf{std err} & \\textbf{t} & \\textbf{P$> |$t$|$} & \\textbf{[0.025} & \\textbf{0.975]}  \\\\\n",
       "\\midrule\n",
       "\\textbf{const} &      -0.0002  &        0.004     &    -0.047  &         0.963        &       -0.009    &        0.008     \\\\\n",
       "\\textbf{x1}    &       0.8895  &        0.004     &   202.318  &         0.000        &        0.881    &        0.898     \\\\\n",
       "\\bottomrule\n",
       "\\end{tabular}\n",
       "\\begin{tabular}{lclc}\n",
       "\\textbf{Omnibus:}       &  1.070 & \\textbf{  Durbin-Watson:     } &    2.015  \\\\\n",
       "\\textbf{Prob(Omnibus):} &  0.586 & \\textbf{  Jarque-Bera (JB):  } &    1.089  \\\\\n",
       "\\textbf{Skew:}          &  0.006 & \\textbf{  Prob(JB):          } &    0.580  \\\\\n",
       "\\textbf{Kurtosis:}      &  2.950 & \\textbf{  Cond. No.          } &     1.00  \\\\\n",
       "\\bottomrule\n",
       "\\end{tabular}\n",
       "%\\caption{OLS Regression Results}\n",
       "\\end{center}\n",
       "\n",
       "Notes: \\newline\n",
       " [1] Standard Errors assume that the covariance matrix of the errors is correctly specified."
      ],
      "text/plain": [
       "<class 'statsmodels.iolib.summary.Summary'>\n",
       "\"\"\"\n",
       "                            OLS Regression Results                            \n",
       "==============================================================================\n",
       "Dep. Variable:                      y   R-squared:                       0.804\n",
       "Model:                            OLS   Adj. R-squared:                  0.804\n",
       "Method:                 Least Squares   F-statistic:                 4.093e+04\n",
       "Date:                Mon, 15 Jan 2024   Prob (F-statistic):               0.00\n",
       "Time:                        20:41:33   Log-Likelihood:                -5942.0\n",
       "No. Observations:               10000   AIC:                         1.189e+04\n",
       "Df Residuals:                    9998   BIC:                         1.190e+04\n",
       "Df Model:                           1                                         \n",
       "Covariance Type:            nonrobust                                         \n",
       "==============================================================================\n",
       "                 coef    std err          t      P>|t|      [0.025      0.975]\n",
       "------------------------------------------------------------------------------\n",
       "const         -0.0002      0.004     -0.047      0.963      -0.009       0.008\n",
       "x1             0.8895      0.004    202.318      0.000       0.881       0.898\n",
       "==============================================================================\n",
       "Omnibus:                        1.070   Durbin-Watson:                   2.015\n",
       "Prob(Omnibus):                  0.586   Jarque-Bera (JB):                1.089\n",
       "Skew:                           0.006   Prob(JB):                        0.580\n",
       "Kurtosis:                       2.950   Cond. No.                         1.00\n",
       "==============================================================================\n",
       "\n",
       "Notes:\n",
       "[1] Standard Errors assume that the covariance matrix of the errors is correctly specified.\n",
       "\"\"\""
      ]
     },
     "execution_count": 7,
     "metadata": {},
     "output_type": "execute_result"
    }
   ],
   "source": [
    "x = sm.add_constant(x)\n",
    "model = sm.OLS(y, x).fit()\n",
    "predictions = model.predict(x) # make the predictions by the model\n",
    "# Print out the statistics\n",
    "model.summary()"
   ]
  },
  {
   "cell_type": "markdown",
   "metadata": {},
   "source": [
    "This time, we regress y on x and z."
   ]
  },
  {
   "cell_type": "code",
   "execution_count": 8,
   "metadata": {},
   "outputs": [
    {
     "data": {
      "text/html": [
       "<table class=\"simpletable\">\n",
       "<caption>OLS Regression Results</caption>\n",
       "<tr>\n",
       "  <th>Dep. Variable:</th>            <td>y</td>        <th>  R-squared:         </th> <td>   0.849</td> \n",
       "</tr>\n",
       "<tr>\n",
       "  <th>Model:</th>                   <td>OLS</td>       <th>  Adj. R-squared:    </th> <td>   0.849</td> \n",
       "</tr>\n",
       "<tr>\n",
       "  <th>Method:</th>             <td>Least Squares</td>  <th>  F-statistic:       </th> <td>2.809e+04</td>\n",
       "</tr>\n",
       "<tr>\n",
       "  <th>Date:</th>             <td>Mon, 15 Jan 2024</td> <th>  Prob (F-statistic):</th>  <td>  0.00</td>  \n",
       "</tr>\n",
       "<tr>\n",
       "  <th>Time:</th>                 <td>20:41:34</td>     <th>  Log-Likelihood:    </th> <td> -4632.3</td> \n",
       "</tr>\n",
       "<tr>\n",
       "  <th>No. Observations:</th>      <td> 10000</td>      <th>  AIC:               </th> <td>   9271.</td> \n",
       "</tr>\n",
       "<tr>\n",
       "  <th>Df Residuals:</th>          <td>  9997</td>      <th>  BIC:               </th> <td>   9292.</td> \n",
       "</tr>\n",
       "<tr>\n",
       "  <th>Df Model:</th>              <td>     2</td>      <th>                     </th>     <td> </td>    \n",
       "</tr>\n",
       "<tr>\n",
       "  <th>Covariance Type:</th>      <td>nonrobust</td>    <th>                     </th>     <td> </td>    \n",
       "</tr>\n",
       "</table>\n",
       "<table class=\"simpletable\">\n",
       "<tr>\n",
       "    <td></td>       <th>coef</th>     <th>std err</th>      <th>t</th>      <th>P>|t|</th>  <th>[0.025</th>    <th>0.975]</th>  \n",
       "</tr>\n",
       "<tr>\n",
       "  <th>const</th> <td>    0.0020</td> <td>    0.004</td> <td>    0.520</td> <td> 0.603</td> <td>   -0.006</td> <td>    0.010</td>\n",
       "</tr>\n",
       "<tr>\n",
       "  <th>x1</th>    <td>    0.4552</td> <td>    0.009</td> <td>   51.577</td> <td> 0.000</td> <td>    0.438</td> <td>    0.472</td>\n",
       "</tr>\n",
       "<tr>\n",
       "  <th>x2</th>    <td>    0.4845</td> <td>    0.009</td> <td>   54.712</td> <td> 0.000</td> <td>    0.467</td> <td>    0.502</td>\n",
       "</tr>\n",
       "</table>\n",
       "<table class=\"simpletable\">\n",
       "<tr>\n",
       "  <th>Omnibus:</th>       <td> 0.025</td> <th>  Durbin-Watson:     </th> <td>   1.995</td>\n",
       "</tr>\n",
       "<tr>\n",
       "  <th>Prob(Omnibus):</th> <td> 0.988</td> <th>  Jarque-Bera (JB):  </th> <td>   0.031</td>\n",
       "</tr>\n",
       "<tr>\n",
       "  <th>Skew:</th>          <td> 0.004</td> <th>  Prob(JB):          </th> <td>   0.985</td>\n",
       "</tr>\n",
       "<tr>\n",
       "  <th>Kurtosis:</th>      <td> 2.995</td> <th>  Cond. No.          </th> <td>    4.35</td>\n",
       "</tr>\n",
       "</table><br/><br/>Notes:<br/>[1] Standard Errors assume that the covariance matrix of the errors is correctly specified."
      ],
      "text/latex": [
       "\\begin{center}\n",
       "\\begin{tabular}{lclc}\n",
       "\\toprule\n",
       "\\textbf{Dep. Variable:}    &        y         & \\textbf{  R-squared:         } &     0.849   \\\\\n",
       "\\textbf{Model:}            &       OLS        & \\textbf{  Adj. R-squared:    } &     0.849   \\\\\n",
       "\\textbf{Method:}           &  Least Squares   & \\textbf{  F-statistic:       } & 2.809e+04   \\\\\n",
       "\\textbf{Date:}             & Mon, 15 Jan 2024 & \\textbf{  Prob (F-statistic):} &     0.00    \\\\\n",
       "\\textbf{Time:}             &     20:41:34     & \\textbf{  Log-Likelihood:    } &   -4632.3   \\\\\n",
       "\\textbf{No. Observations:} &       10000      & \\textbf{  AIC:               } &     9271.   \\\\\n",
       "\\textbf{Df Residuals:}     &        9997      & \\textbf{  BIC:               } &     9292.   \\\\\n",
       "\\textbf{Df Model:}         &           2      & \\textbf{                     } &             \\\\\n",
       "\\textbf{Covariance Type:}  &    nonrobust     & \\textbf{                     } &             \\\\\n",
       "\\bottomrule\n",
       "\\end{tabular}\n",
       "\\begin{tabular}{lcccccc}\n",
       "               & \\textbf{coef} & \\textbf{std err} & \\textbf{t} & \\textbf{P$> |$t$|$} & \\textbf{[0.025} & \\textbf{0.975]}  \\\\\n",
       "\\midrule\n",
       "\\textbf{const} &       0.0020  &        0.004     &     0.520  &         0.603        &       -0.006    &        0.010     \\\\\n",
       "\\textbf{x1}    &       0.4552  &        0.009     &    51.577  &         0.000        &        0.438    &        0.472     \\\\\n",
       "\\textbf{x2}    &       0.4845  &        0.009     &    54.712  &         0.000        &        0.467    &        0.502     \\\\\n",
       "\\bottomrule\n",
       "\\end{tabular}\n",
       "\\begin{tabular}{lclc}\n",
       "\\textbf{Omnibus:}       &  0.025 & \\textbf{  Durbin-Watson:     } &    1.995  \\\\\n",
       "\\textbf{Prob(Omnibus):} &  0.988 & \\textbf{  Jarque-Bera (JB):  } &    0.031  \\\\\n",
       "\\textbf{Skew:}          &  0.004 & \\textbf{  Prob(JB):          } &    0.985  \\\\\n",
       "\\textbf{Kurtosis:}      &  2.995 & \\textbf{  Cond. No.          } &     4.35  \\\\\n",
       "\\bottomrule\n",
       "\\end{tabular}\n",
       "%\\caption{OLS Regression Results}\n",
       "\\end{center}\n",
       "\n",
       "Notes: \\newline\n",
       " [1] Standard Errors assume that the covariance matrix of the errors is correctly specified."
      ],
      "text/plain": [
       "<class 'statsmodels.iolib.summary.Summary'>\n",
       "\"\"\"\n",
       "                            OLS Regression Results                            \n",
       "==============================================================================\n",
       "Dep. Variable:                      y   R-squared:                       0.849\n",
       "Model:                            OLS   Adj. R-squared:                  0.849\n",
       "Method:                 Least Squares   F-statistic:                 2.809e+04\n",
       "Date:                Mon, 15 Jan 2024   Prob (F-statistic):               0.00\n",
       "Time:                        20:41:34   Log-Likelihood:                -4632.3\n",
       "No. Observations:               10000   AIC:                             9271.\n",
       "Df Residuals:                    9997   BIC:                             9292.\n",
       "Df Model:                           2                                         \n",
       "Covariance Type:            nonrobust                                         \n",
       "==============================================================================\n",
       "                 coef    std err          t      P>|t|      [0.025      0.975]\n",
       "------------------------------------------------------------------------------\n",
       "const          0.0020      0.004      0.520      0.603      -0.006       0.010\n",
       "x1             0.4552      0.009     51.577      0.000       0.438       0.472\n",
       "x2             0.4845      0.009     54.712      0.000       0.467       0.502\n",
       "==============================================================================\n",
       "Omnibus:                        0.025   Durbin-Watson:                   1.995\n",
       "Prob(Omnibus):                  0.988   Jarque-Bera (JB):                0.031\n",
       "Skew:                           0.004   Prob(JB):                        0.985\n",
       "Kurtosis:                       2.995   Cond. No.                         4.35\n",
       "==============================================================================\n",
       "\n",
       "Notes:\n",
       "[1] Standard Errors assume that the covariance matrix of the errors is correctly specified.\n",
       "\"\"\""
      ]
     },
     "execution_count": 8,
     "metadata": {},
     "output_type": "execute_result"
    }
   ],
   "source": [
    "X = sample[:,[0,2]]\n",
    "X = sm.add_constant(X)\n",
    "model = sm.OLS(y, X).fit()\n",
    "# Print out the statistics\n",
    "model.summary()"
   ]
  },
  {
   "cell_type": "markdown",
   "metadata": {},
   "source": [
    "The coefficients for x and z should be on average equal to $\\frac{i-jk}{1-j^2}$ and $\\frac{-ij + k}{1-j^2}$. (See (21) in the Appendix.) In our case, $\\frac{i-jk}{1-j^2} = \\frac{-ij + k}{1-j^2} = 0.473$. "
   ]
  },
  {
   "cell_type": "code",
   "execution_count": 9,
   "metadata": {},
   "outputs": [
    {
     "data": {
      "text/plain": [
       "0.47368421052631576"
      ]
     },
     "execution_count": 9,
     "metadata": {},
     "output_type": "execute_result"
    }
   ],
   "source": [
    "(0.9 - 0.9*0.9)/(1-0.9**2)"
   ]
  },
  {
   "cell_type": "markdown",
   "metadata": {},
   "source": [
    "So, in this particular case, including Z in the regression indeed makes the coefficient on X smaller. "
   ]
  },
  {
   "cell_type": "markdown",
   "metadata": {},
   "source": [
    "Let's see if this finding can be generalized by looping over all posible values of $i$, $j$, and $k$ from -0.9 to 0.9 with 0.1 increments."
   ]
  },
  {
   "cell_type": "code",
   "execution_count": 10,
   "metadata": {},
   "outputs": [],
   "source": [
    "values = [i * 0.1 for i in range(-9,10)]"
   ]
  },
  {
   "cell_type": "code",
   "execution_count": 11,
   "metadata": {},
   "outputs": [],
   "source": [
    "OUTPUT = []\n",
    "for i in values:\n",
    "    for j in values:\n",
    "        for k in values:\n",
    "            mean = np.array([0, 0, 0])\n",
    "            cov = np.array([[1, i, j], [i, 1, k], [j, k, 1]])\n",
    "            eigenvalues = np.linalg.eig(cov)[0]\n",
    "            if (eigenvalues[0] >= 0) and (eigenvalues[1] >=0) and (eigenvalues[2] >= 0):\n",
    "                ps = True\n",
    "                sample = np.random.multivariate_normal(mean, cov, 10000)\n",
    "                x = sample[:,0]\n",
    "                y = sample[:,1]\n",
    "                z = sample[:,2]\n",
    "\n",
    "                x = sm.add_constant(x)\n",
    "                model = sm.OLS(y, x).fit()\n",
    "                b1 = model.params[1]\n",
    "\n",
    "                X = sample[:,[0,2]]\n",
    "                X = sm.add_constant(X)\n",
    "                model = sm.OLS(y, X).fit()\n",
    "                b2 = model.params[1]\n",
    "                beta = (i - j*k)/(1 - j**2)\n",
    "                gamma = (-i*j + k)/(1 - j**2)\n",
    "\n",
    "                if b1 > b2:\n",
    "                    est = \"overestimated\"\n",
    "                if b1 < b2:\n",
    "                    est = \"underestimated\"\n",
    "            else:\n",
    "                ps = False\n",
    "                b1 = None\n",
    "                b2 = None\n",
    "                est = None\n",
    "                beta = None\n",
    "                gamma = None\n",
    "\n",
    "            row = [i, j, k, b1, b2, est, beta, ps, gamma]\n",
    "            OUTPUT.append(row)         "
   ]
  },
  {
   "cell_type": "markdown",
   "metadata": {},
   "source": [
    "And save the results to a dataframe."
   ]
  },
  {
   "cell_type": "code",
   "execution_count": 12,
   "metadata": {},
   "outputs": [],
   "source": [
    "results = pd.DataFrame(OUTPUT, columns = [\"i\",\"j\",\"k\",\"b_xy\", \"b_xyz\", \"estimate\", \"beta\", \"positive semidefinite\", \"gamma\"])"
   ]
  },
  {
   "cell_type": "markdown",
   "metadata": {},
   "source": [
    "Show only the rows with a positive semidefinite covariance matrix. \"b_xy\" is the estimated regression slope for x without controlling for z. \"b_xyz\" is the estimated regression slope for x after controlling for z. $\\beta = \\frac{i-jk}{1-j^2}$  and $\\gamma = \\frac{-ij + k}{1-j^2}$ are the theoretical slopes for X and Z. You can see from this table that \"b_xy\" is a very close estimate of $i$, and \"b_xyz\" is a very close estimate of $\\beta$. \n",
    "\n",
    "Without controling for z, bias = $\\gamma j$. When $\\gamma j$ is postive, \"b_xy\" overestimates $\\beta$. When $\\gamma j$ is negative, \"b_xy\" underestimates $\\beta$."
   ]
  },
  {
   "cell_type": "code",
   "execution_count": 13,
   "metadata": {},
   "outputs": [
    {
     "data": {
      "text/html": [
       "<div>\n",
       "<style scoped>\n",
       "    .dataframe tbody tr th:only-of-type {\n",
       "        vertical-align: middle;\n",
       "    }\n",
       "\n",
       "    .dataframe tbody tr th {\n",
       "        vertical-align: top;\n",
       "    }\n",
       "\n",
       "    .dataframe thead th {\n",
       "        text-align: right;\n",
       "    }\n",
       "</style>\n",
       "<table border=\"1\" class=\"dataframe\">\n",
       "  <thead>\n",
       "    <tr style=\"text-align: right;\">\n",
       "      <th></th>\n",
       "      <th>i</th>\n",
       "      <th>j</th>\n",
       "      <th>k</th>\n",
       "      <th>b_xy</th>\n",
       "      <th>b_xyz</th>\n",
       "      <th>estimate</th>\n",
       "      <th>beta</th>\n",
       "      <th>positive semidefinite</th>\n",
       "      <th>gamma</th>\n",
       "    </tr>\n",
       "  </thead>\n",
       "  <tbody>\n",
       "    <tr>\n",
       "      <th>16</th>\n",
       "      <td>-0.9</td>\n",
       "      <td>-0.9</td>\n",
       "      <td>0.7</td>\n",
       "      <td>-0.902897</td>\n",
       "      <td>-1.410553</td>\n",
       "      <td>overestimated</td>\n",
       "      <td>-1.421053</td>\n",
       "      <td>True</td>\n",
       "      <td>-0.578947</td>\n",
       "    </tr>\n",
       "    <tr>\n",
       "      <th>17</th>\n",
       "      <td>-0.9</td>\n",
       "      <td>-0.9</td>\n",
       "      <td>0.8</td>\n",
       "      <td>-0.895188</td>\n",
       "      <td>-0.926884</td>\n",
       "      <td>overestimated</td>\n",
       "      <td>-0.947368</td>\n",
       "      <td>True</td>\n",
       "      <td>-0.052632</td>\n",
       "    </tr>\n",
       "    <tr>\n",
       "      <th>18</th>\n",
       "      <td>-0.9</td>\n",
       "      <td>-0.9</td>\n",
       "      <td>0.9</td>\n",
       "      <td>-0.903159</td>\n",
       "      <td>-0.478150</td>\n",
       "      <td>underestimated</td>\n",
       "      <td>-0.473684</td>\n",
       "      <td>True</td>\n",
       "      <td>0.473684</td>\n",
       "    </tr>\n",
       "    <tr>\n",
       "      <th>33</th>\n",
       "      <td>-0.9</td>\n",
       "      <td>-0.8</td>\n",
       "      <td>0.5</td>\n",
       "      <td>-0.899779</td>\n",
       "      <td>-1.389657</td>\n",
       "      <td>overestimated</td>\n",
       "      <td>-1.388889</td>\n",
       "      <td>True</td>\n",
       "      <td>-0.611111</td>\n",
       "    </tr>\n",
       "    <tr>\n",
       "      <th>34</th>\n",
       "      <td>-0.9</td>\n",
       "      <td>-0.8</td>\n",
       "      <td>0.6</td>\n",
       "      <td>-0.900013</td>\n",
       "      <td>-1.170034</td>\n",
       "      <td>overestimated</td>\n",
       "      <td>-1.166667</td>\n",
       "      <td>True</td>\n",
       "      <td>-0.333333</td>\n",
       "    </tr>\n",
       "    <tr>\n",
       "      <th>...</th>\n",
       "      <td>...</td>\n",
       "      <td>...</td>\n",
       "      <td>...</td>\n",
       "      <td>...</td>\n",
       "      <td>...</td>\n",
       "      <td>...</td>\n",
       "      <td>...</td>\n",
       "      <td>...</td>\n",
       "      <td>...</td>\n",
       "    </tr>\n",
       "    <tr>\n",
       "      <th>6838</th>\n",
       "      <td>0.9</td>\n",
       "      <td>0.8</td>\n",
       "      <td>0.8</td>\n",
       "      <td>0.909854</td>\n",
       "      <td>0.725262</td>\n",
       "      <td>overestimated</td>\n",
       "      <td>0.722222</td>\n",
       "      <td>True</td>\n",
       "      <td>0.222222</td>\n",
       "    </tr>\n",
       "    <tr>\n",
       "      <th>6839</th>\n",
       "      <td>0.9</td>\n",
       "      <td>0.8</td>\n",
       "      <td>0.9</td>\n",
       "      <td>0.904283</td>\n",
       "      <td>0.506119</td>\n",
       "      <td>overestimated</td>\n",
       "      <td>0.500000</td>\n",
       "      <td>True</td>\n",
       "      <td>0.500000</td>\n",
       "    </tr>\n",
       "    <tr>\n",
       "      <th>6856</th>\n",
       "      <td>0.9</td>\n",
       "      <td>0.9</td>\n",
       "      <td>0.7</td>\n",
       "      <td>0.900043</td>\n",
       "      <td>1.420639</td>\n",
       "      <td>underestimated</td>\n",
       "      <td>1.421053</td>\n",
       "      <td>True</td>\n",
       "      <td>-0.578947</td>\n",
       "    </tr>\n",
       "    <tr>\n",
       "      <th>6857</th>\n",
       "      <td>0.9</td>\n",
       "      <td>0.9</td>\n",
       "      <td>0.8</td>\n",
       "      <td>0.896327</td>\n",
       "      <td>0.952184</td>\n",
       "      <td>underestimated</td>\n",
       "      <td>0.947368</td>\n",
       "      <td>True</td>\n",
       "      <td>-0.052632</td>\n",
       "    </tr>\n",
       "    <tr>\n",
       "      <th>6858</th>\n",
       "      <td>0.9</td>\n",
       "      <td>0.9</td>\n",
       "      <td>0.9</td>\n",
       "      <td>0.899231</td>\n",
       "      <td>0.462386</td>\n",
       "      <td>overestimated</td>\n",
       "      <td>0.473684</td>\n",
       "      <td>True</td>\n",
       "      <td>0.473684</td>\n",
       "    </tr>\n",
       "  </tbody>\n",
       "</table>\n",
       "<p>4775 rows × 9 columns</p>\n",
       "</div>"
      ],
      "text/plain": [
       "        i    j    k      b_xy     b_xyz        estimate      beta  \\\n",
       "16   -0.9 -0.9  0.7 -0.902897 -1.410553   overestimated -1.421053   \n",
       "17   -0.9 -0.9  0.8 -0.895188 -0.926884   overestimated -0.947368   \n",
       "18   -0.9 -0.9  0.9 -0.903159 -0.478150  underestimated -0.473684   \n",
       "33   -0.9 -0.8  0.5 -0.899779 -1.389657   overestimated -1.388889   \n",
       "34   -0.9 -0.8  0.6 -0.900013 -1.170034   overestimated -1.166667   \n",
       "...   ...  ...  ...       ...       ...             ...       ...   \n",
       "6838  0.9  0.8  0.8  0.909854  0.725262   overestimated  0.722222   \n",
       "6839  0.9  0.8  0.9  0.904283  0.506119   overestimated  0.500000   \n",
       "6856  0.9  0.9  0.7  0.900043  1.420639  underestimated  1.421053   \n",
       "6857  0.9  0.9  0.8  0.896327  0.952184  underestimated  0.947368   \n",
       "6858  0.9  0.9  0.9  0.899231  0.462386   overestimated  0.473684   \n",
       "\n",
       "      positive semidefinite     gamma  \n",
       "16                     True -0.578947  \n",
       "17                     True -0.052632  \n",
       "18                     True  0.473684  \n",
       "33                     True -0.611111  \n",
       "34                     True -0.333333  \n",
       "...                     ...       ...  \n",
       "6838                   True  0.222222  \n",
       "6839                   True  0.500000  \n",
       "6856                   True -0.578947  \n",
       "6857                   True -0.052632  \n",
       "6858                   True  0.473684  \n",
       "\n",
       "[4775 rows x 9 columns]"
      ]
     },
     "execution_count": 13,
     "metadata": {},
     "output_type": "execute_result"
    }
   ],
   "source": [
    "results[(results['positive semidefinite'] == True)]"
   ]
  },
  {
   "cell_type": "markdown",
   "metadata": {},
   "source": [
    "## Some interesting cases:"
   ]
  },
  {
   "cell_type": "markdown",
   "metadata": {},
   "source": [
    "When X and Y, Y and Z are correlateed at 0.9, varying the correlation betweeen X and Z from 0.9 to 0.7 would vastly change the result of control.  "
   ]
  },
  {
   "cell_type": "code",
   "execution_count": 14,
   "metadata": {},
   "outputs": [
    {
     "data": {
      "text/html": [
       "<div>\n",
       "<style scoped>\n",
       "    .dataframe tbody tr th:only-of-type {\n",
       "        vertical-align: middle;\n",
       "    }\n",
       "\n",
       "    .dataframe tbody tr th {\n",
       "        vertical-align: top;\n",
       "    }\n",
       "\n",
       "    .dataframe thead th {\n",
       "        text-align: right;\n",
       "    }\n",
       "</style>\n",
       "<table border=\"1\" class=\"dataframe\">\n",
       "  <thead>\n",
       "    <tr style=\"text-align: right;\">\n",
       "      <th></th>\n",
       "      <th>i</th>\n",
       "      <th>j</th>\n",
       "      <th>k</th>\n",
       "      <th>b_xy</th>\n",
       "      <th>b_xyz</th>\n",
       "      <th>estimate</th>\n",
       "      <th>beta</th>\n",
       "      <th>positive semidefinite</th>\n",
       "      <th>gamma</th>\n",
       "    </tr>\n",
       "  </thead>\n",
       "  <tbody>\n",
       "    <tr>\n",
       "      <th>6856</th>\n",
       "      <td>0.9</td>\n",
       "      <td>0.9</td>\n",
       "      <td>0.7</td>\n",
       "      <td>0.900043</td>\n",
       "      <td>1.420639</td>\n",
       "      <td>underestimated</td>\n",
       "      <td>1.421053</td>\n",
       "      <td>True</td>\n",
       "      <td>-0.578947</td>\n",
       "    </tr>\n",
       "    <tr>\n",
       "      <th>6857</th>\n",
       "      <td>0.9</td>\n",
       "      <td>0.9</td>\n",
       "      <td>0.8</td>\n",
       "      <td>0.896327</td>\n",
       "      <td>0.952184</td>\n",
       "      <td>underestimated</td>\n",
       "      <td>0.947368</td>\n",
       "      <td>True</td>\n",
       "      <td>-0.052632</td>\n",
       "    </tr>\n",
       "    <tr>\n",
       "      <th>6858</th>\n",
       "      <td>0.9</td>\n",
       "      <td>0.9</td>\n",
       "      <td>0.9</td>\n",
       "      <td>0.899231</td>\n",
       "      <td>0.462386</td>\n",
       "      <td>overestimated</td>\n",
       "      <td>0.473684</td>\n",
       "      <td>True</td>\n",
       "      <td>0.473684</td>\n",
       "    </tr>\n",
       "  </tbody>\n",
       "</table>\n",
       "</div>"
      ],
      "text/plain": [
       "        i    j    k      b_xy     b_xyz        estimate      beta  \\\n",
       "6856  0.9  0.9  0.7  0.900043  1.420639  underestimated  1.421053   \n",
       "6857  0.9  0.9  0.8  0.896327  0.952184  underestimated  0.947368   \n",
       "6858  0.9  0.9  0.9  0.899231  0.462386   overestimated  0.473684   \n",
       "\n",
       "      positive semidefinite     gamma  \n",
       "6856                   True -0.578947  \n",
       "6857                   True -0.052632  \n",
       "6858                   True  0.473684  "
      ]
     },
     "execution_count": 14,
     "metadata": {},
     "output_type": "execute_result"
    }
   ],
   "source": [
    "results[(results['positive semidefinite'] == True)].tail(3)"
   ]
  },
  {
   "cell_type": "markdown",
   "metadata": {},
   "source": [
    "In some cases, controling for Z wouldn't matter at all even though Z is correlated with both X and Y. "
   ]
  },
  {
   "cell_type": "code",
   "execution_count": 15,
   "metadata": {},
   "outputs": [
    {
     "data": {
      "text/html": [
       "<div>\n",
       "<style scoped>\n",
       "    .dataframe tbody tr th:only-of-type {\n",
       "        vertical-align: middle;\n",
       "    }\n",
       "\n",
       "    .dataframe tbody tr th {\n",
       "        vertical-align: top;\n",
       "    }\n",
       "\n",
       "    .dataframe thead th {\n",
       "        text-align: right;\n",
       "    }\n",
       "</style>\n",
       "<table border=\"1\" class=\"dataframe\">\n",
       "  <thead>\n",
       "    <tr style=\"text-align: right;\">\n",
       "      <th></th>\n",
       "      <th>i</th>\n",
       "      <th>j</th>\n",
       "      <th>k</th>\n",
       "      <th>b_xy</th>\n",
       "      <th>b_xyz</th>\n",
       "      <th>estimate</th>\n",
       "      <th>beta</th>\n",
       "      <th>positive semidefinite</th>\n",
       "      <th>gamma</th>\n",
       "    </tr>\n",
       "  </thead>\n",
       "  <tbody>\n",
       "    <tr>\n",
       "      <th>450</th>\n",
       "      <td>-0.8</td>\n",
       "      <td>-0.5</td>\n",
       "      <td>0.4</td>\n",
       "      <td>-0.803613</td>\n",
       "      <td>-0.803792</td>\n",
       "      <td>overestimated</td>\n",
       "      <td>-0.8</td>\n",
       "      <td>True</td>\n",
       "      <td>0.0</td>\n",
       "    </tr>\n",
       "  </tbody>\n",
       "</table>\n",
       "</div>"
      ],
      "text/plain": [
       "       i    j    k      b_xy     b_xyz       estimate  beta  \\\n",
       "450 -0.8 -0.5  0.4 -0.803613 -0.803792  overestimated  -0.8   \n",
       "\n",
       "     positive semidefinite  gamma  \n",
       "450                   True    0.0  "
      ]
     },
     "execution_count": 15,
     "metadata": {},
     "output_type": "execute_result"
    }
   ],
   "source": [
    "results[(results['i'] == -0.8) & (results['j'] == -0.5) & (results['k'] == 0.4)]"
   ]
  },
  {
   "cell_type": "markdown",
   "metadata": {},
   "source": [
    "Z $\\nsim$ X is no guarentee for Z not being a confounder for the relationship between X and Y. This is probably the most counter-intuitive part of the results. "
   ]
  },
  {
   "cell_type": "code",
   "execution_count": 16,
   "metadata": {},
   "outputs": [
    {
     "data": {
      "text/html": [
       "<div>\n",
       "<style scoped>\n",
       "    .dataframe tbody tr th:only-of-type {\n",
       "        vertical-align: middle;\n",
       "    }\n",
       "\n",
       "    .dataframe tbody tr th {\n",
       "        vertical-align: top;\n",
       "    }\n",
       "\n",
       "    .dataframe thead th {\n",
       "        text-align: right;\n",
       "    }\n",
       "</style>\n",
       "<table border=\"1\" class=\"dataframe\">\n",
       "  <thead>\n",
       "    <tr style=\"text-align: right;\">\n",
       "      <th></th>\n",
       "      <th>i</th>\n",
       "      <th>j</th>\n",
       "      <th>k</th>\n",
       "      <th>b_xy</th>\n",
       "      <th>b_xyz</th>\n",
       "      <th>estimate</th>\n",
       "      <th>beta</th>\n",
       "      <th>positive semidefinite</th>\n",
       "      <th>gamma</th>\n",
       "    </tr>\n",
       "  </thead>\n",
       "  <tbody>\n",
       "    <tr>\n",
       "      <th>9</th>\n",
       "      <td>-0.9</td>\n",
       "      <td>-0.9</td>\n",
       "      <td>0.0</td>\n",
       "      <td>NaN</td>\n",
       "      <td>NaN</td>\n",
       "      <td>None</td>\n",
       "      <td>NaN</td>\n",
       "      <td>False</td>\n",
       "      <td>NaN</td>\n",
       "    </tr>\n",
       "    <tr>\n",
       "      <th>28</th>\n",
       "      <td>-0.9</td>\n",
       "      <td>-0.8</td>\n",
       "      <td>0.0</td>\n",
       "      <td>NaN</td>\n",
       "      <td>NaN</td>\n",
       "      <td>None</td>\n",
       "      <td>NaN</td>\n",
       "      <td>False</td>\n",
       "      <td>NaN</td>\n",
       "    </tr>\n",
       "    <tr>\n",
       "      <th>47</th>\n",
       "      <td>-0.9</td>\n",
       "      <td>-0.7</td>\n",
       "      <td>0.0</td>\n",
       "      <td>NaN</td>\n",
       "      <td>NaN</td>\n",
       "      <td>None</td>\n",
       "      <td>NaN</td>\n",
       "      <td>False</td>\n",
       "      <td>NaN</td>\n",
       "    </tr>\n",
       "    <tr>\n",
       "      <th>66</th>\n",
       "      <td>-0.9</td>\n",
       "      <td>-0.6</td>\n",
       "      <td>0.0</td>\n",
       "      <td>NaN</td>\n",
       "      <td>NaN</td>\n",
       "      <td>None</td>\n",
       "      <td>NaN</td>\n",
       "      <td>False</td>\n",
       "      <td>NaN</td>\n",
       "    </tr>\n",
       "    <tr>\n",
       "      <th>85</th>\n",
       "      <td>-0.9</td>\n",
       "      <td>-0.5</td>\n",
       "      <td>0.0</td>\n",
       "      <td>NaN</td>\n",
       "      <td>NaN</td>\n",
       "      <td>None</td>\n",
       "      <td>NaN</td>\n",
       "      <td>False</td>\n",
       "      <td>NaN</td>\n",
       "    </tr>\n",
       "    <tr>\n",
       "      <th>...</th>\n",
       "      <td>...</td>\n",
       "      <td>...</td>\n",
       "      <td>...</td>\n",
       "      <td>...</td>\n",
       "      <td>...</td>\n",
       "      <td>...</td>\n",
       "      <td>...</td>\n",
       "      <td>...</td>\n",
       "      <td>...</td>\n",
       "    </tr>\n",
       "    <tr>\n",
       "      <th>6773</th>\n",
       "      <td>0.9</td>\n",
       "      <td>0.5</td>\n",
       "      <td>0.0</td>\n",
       "      <td>NaN</td>\n",
       "      <td>NaN</td>\n",
       "      <td>None</td>\n",
       "      <td>NaN</td>\n",
       "      <td>False</td>\n",
       "      <td>NaN</td>\n",
       "    </tr>\n",
       "    <tr>\n",
       "      <th>6792</th>\n",
       "      <td>0.9</td>\n",
       "      <td>0.6</td>\n",
       "      <td>0.0</td>\n",
       "      <td>NaN</td>\n",
       "      <td>NaN</td>\n",
       "      <td>None</td>\n",
       "      <td>NaN</td>\n",
       "      <td>False</td>\n",
       "      <td>NaN</td>\n",
       "    </tr>\n",
       "    <tr>\n",
       "      <th>6811</th>\n",
       "      <td>0.9</td>\n",
       "      <td>0.7</td>\n",
       "      <td>0.0</td>\n",
       "      <td>NaN</td>\n",
       "      <td>NaN</td>\n",
       "      <td>None</td>\n",
       "      <td>NaN</td>\n",
       "      <td>False</td>\n",
       "      <td>NaN</td>\n",
       "    </tr>\n",
       "    <tr>\n",
       "      <th>6830</th>\n",
       "      <td>0.9</td>\n",
       "      <td>0.8</td>\n",
       "      <td>0.0</td>\n",
       "      <td>NaN</td>\n",
       "      <td>NaN</td>\n",
       "      <td>None</td>\n",
       "      <td>NaN</td>\n",
       "      <td>False</td>\n",
       "      <td>NaN</td>\n",
       "    </tr>\n",
       "    <tr>\n",
       "      <th>6849</th>\n",
       "      <td>0.9</td>\n",
       "      <td>0.9</td>\n",
       "      <td>0.0</td>\n",
       "      <td>NaN</td>\n",
       "      <td>NaN</td>\n",
       "      <td>None</td>\n",
       "      <td>NaN</td>\n",
       "      <td>False</td>\n",
       "      <td>NaN</td>\n",
       "    </tr>\n",
       "  </tbody>\n",
       "</table>\n",
       "<p>361 rows × 9 columns</p>\n",
       "</div>"
      ],
      "text/plain": [
       "        i    j    k  b_xy  b_xyz estimate  beta  positive semidefinite  gamma\n",
       "9    -0.9 -0.9  0.0   NaN    NaN     None   NaN                  False    NaN\n",
       "28   -0.9 -0.8  0.0   NaN    NaN     None   NaN                  False    NaN\n",
       "47   -0.9 -0.7  0.0   NaN    NaN     None   NaN                  False    NaN\n",
       "66   -0.9 -0.6  0.0   NaN    NaN     None   NaN                  False    NaN\n",
       "85   -0.9 -0.5  0.0   NaN    NaN     None   NaN                  False    NaN\n",
       "...   ...  ...  ...   ...    ...      ...   ...                    ...    ...\n",
       "6773  0.9  0.5  0.0   NaN    NaN     None   NaN                  False    NaN\n",
       "6792  0.9  0.6  0.0   NaN    NaN     None   NaN                  False    NaN\n",
       "6811  0.9  0.7  0.0   NaN    NaN     None   NaN                  False    NaN\n",
       "6830  0.9  0.8  0.0   NaN    NaN     None   NaN                  False    NaN\n",
       "6849  0.9  0.9  0.0   NaN    NaN     None   NaN                  False    NaN\n",
       "\n",
       "[361 rows x 9 columns]"
      ]
     },
     "execution_count": 16,
     "metadata": {},
     "output_type": "execute_result"
    }
   ],
   "source": [
    "results[(results['k'] == 0)]"
   ]
  },
  {
   "cell_type": "markdown",
   "metadata": {},
   "source": [
    "# Lessons\n",
    "\n",
    "Bivariate associations can tell neither whether a third variable is a confounder nor the direction of bias it causes. What determines these issues are conditional associations rather than unconditional associations. See the appendix for a mathematical proof. "
   ]
  },
  {
   "cell_type": "markdown",
   "metadata": {},
   "source": [
    "# Appendix"
   ]
  },
  {
   "cell_type": "markdown",
   "metadata": {
    "collapsed": true
   },
   "source": [
    "<img src=\"Confounder_Page_1.png\">"
   ]
  },
  {
   "cell_type": "markdown",
   "metadata": {
    "collapsed": true
   },
   "source": [
    "<img src=\"Confounder_Page_2.png\">"
   ]
  },
  {
   "cell_type": "code",
   "execution_count": null,
   "metadata": {},
   "outputs": [],
   "source": []
  }
 ],
 "metadata": {
  "kernelspec": {
   "display_name": "Python 3 (ipykernel)",
   "language": "python",
   "name": "python3"
  },
  "language_info": {
   "codemirror_mode": {
    "name": "ipython",
    "version": 3
   },
   "file_extension": ".py",
   "mimetype": "text/x-python",
   "name": "python",
   "nbconvert_exporter": "python",
   "pygments_lexer": "ipython3",
   "version": "3.8.18"
  }
 },
 "nbformat": 4,
 "nbformat_minor": 2
}
